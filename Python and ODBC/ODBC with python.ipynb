{
 "cells": [
  {
   "cell_type": "code",
   "execution_count": 1,
   "metadata": {},
   "outputs": [],
   "source": [
    "import pyodbc"
   ]
  },
  {
   "cell_type": "markdown",
   "metadata": {},
   "source": [
    "## Method 1"
   ]
  },
  {
   "cell_type": "code",
   "execution_count": 2,
   "metadata": {},
   "outputs": [],
   "source": [
    "conn = pyodbc.connect('DSN=ODBC_conn;PWD=')"
   ]
  },
  {
   "cell_type": "code",
   "execution_count": 3,
   "metadata": {},
   "outputs": [],
   "source": [
    "cursor = conn.cursor()"
   ]
  },
  {
   "cell_type": "code",
   "execution_count": 4,
   "metadata": {},
   "outputs": [
    {
     "data": {
      "text/plain": [
       "<pyodbc.Cursor at 0x1a6a6d66c30>"
      ]
     },
     "execution_count": 4,
     "metadata": {},
     "output_type": "execute_result"
    }
   ],
   "source": [
    "cursor.execute(\"Select * from student\")"
   ]
  },
  {
   "cell_type": "code",
   "execution_count": 5,
   "metadata": {
    "scrolled": true
   },
   "outputs": [
    {
     "name": "stdout",
     "output_type": "stream",
     "text": [
      "('00128', 'Zhang', 'Comp. Sci.', Decimal('102'))\n",
      "('12345', 'Shankar', 'Comp. Sci.', Decimal('32'))\n",
      "('19991', 'Brandt', 'History', Decimal('80'))\n",
      "('23121', 'Chavez', 'Finance', Decimal('110'))\n",
      "('44553', 'Peltier', 'Physics', Decimal('56'))\n",
      "('45678', 'Levy', 'Physics', Decimal('46'))\n",
      "('54321', 'Williams', 'Comp. Sci.', Decimal('54'))\n",
      "('55739', 'Sanchez', 'Music', Decimal('38'))\n",
      "('70557', 'Snow', 'Physics', Decimal('0'))\n",
      "('76543', 'Brown', 'Comp. Sci.', Decimal('58'))\n",
      "('76653', 'Aoi', 'Elec. Eng.', Decimal('60'))\n",
      "('98765', 'Bourikas', 'Elec. Eng.', Decimal('98'))\n",
      "('98988', 'Tanaka', 'Biology', Decimal('120'))\n"
     ]
    }
   ],
   "source": [
    "value = cursor.fetchall()\n",
    "for i in value:\n",
    "    print(i)"
   ]
  },
  {
   "cell_type": "markdown",
   "metadata": {},
   "source": [
    "## Method 2"
   ]
  },
  {
   "cell_type": "code",
   "execution_count": 6,
   "metadata": {},
   "outputs": [],
   "source": [
    "conn1 = pyodbc.connect('DRIVER={MySQL ODBC 8.0 Unicode Driver};SERVER=localhost;DATABASE=university_bookdata_small;UID=root;PWD=')"
   ]
  },
  {
   "cell_type": "code",
   "execution_count": 7,
   "metadata": {},
   "outputs": [],
   "source": [
    "cursor1 = conn1.cursor()"
   ]
  },
  {
   "cell_type": "code",
   "execution_count": 8,
   "metadata": {},
   "outputs": [
    {
     "name": "stdout",
     "output_type": "stream",
     "text": [
      "('00128', 'Zhang', 'Comp. Sci.', Decimal('102'))\n",
      "('12345', 'Shankar', 'Comp. Sci.', Decimal('32'))\n",
      "('19991', 'Brandt', 'History', Decimal('80'))\n",
      "('23121', 'Chavez', 'Finance', Decimal('110'))\n",
      "('44553', 'Peltier', 'Physics', Decimal('56'))\n",
      "('45678', 'Levy', 'Physics', Decimal('46'))\n",
      "('54321', 'Williams', 'Comp. Sci.', Decimal('54'))\n",
      "('55739', 'Sanchez', 'Music', Decimal('38'))\n",
      "('70557', 'Snow', 'Physics', Decimal('0'))\n",
      "('76543', 'Brown', 'Comp. Sci.', Decimal('58'))\n",
      "('76653', 'Aoi', 'Elec. Eng.', Decimal('60'))\n",
      "('98765', 'Bourikas', 'Elec. Eng.', Decimal('98'))\n",
      "('98988', 'Tanaka', 'Biology', Decimal('120'))\n"
     ]
    }
   ],
   "source": [
    "cursor1.execute(\"Select * from student\")\n",
    "values = cursor1.fetchall()\n",
    "for i in values:\n",
    "    print(i)"
   ]
  }
 ],
 "metadata": {
  "kernelspec": {
   "display_name": "Python 3",
   "language": "python",
   "name": "python3"
  },
  "language_info": {
   "codemirror_mode": {
    "name": "ipython",
    "version": 3
   },
   "file_extension": ".py",
   "mimetype": "text/x-python",
   "name": "python",
   "nbconvert_exporter": "python",
   "pygments_lexer": "ipython3",
   "version": "3.8.3"
  }
 },
 "nbformat": 4,
 "nbformat_minor": 4
}
