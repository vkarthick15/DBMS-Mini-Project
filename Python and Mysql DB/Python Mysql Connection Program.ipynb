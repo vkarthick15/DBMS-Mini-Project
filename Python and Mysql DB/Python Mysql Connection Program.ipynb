{
 "cells": [
  {
   "cell_type": "code",
   "execution_count": 1,
   "metadata": {},
   "outputs": [],
   "source": [
    "# Connection\n",
    "import mysql.connector\n",
    "mydb = mysql.connector.connect(\n",
    "  host=\"localhost\",\n",
    "  user=\"root\",\n",
    "  password=\"\",\n",
    "  database=\"miniproject\"\n",
    ")\n",
    "\n",
    "mycursor = mydb.cursor()\n",
    "\n",
    "# database\n",
    "# mycursor.execute(\"CREATE DATABASE university\")\n",
    "\n",
    "# creation of table\n",
    "mycursor.execute(\"CREATE TABLE `book`( `id` INT(10) NOT NULL , `Name` VARCHAR(50) NOT NULL , `price` INT(25) NOT NULL , PRIMARY KEY (`id`))\")"
   ]
  },
  {
   "cell_type": "code",
   "execution_count": 2,
   "metadata": {},
   "outputs": [
    {
     "name": "stdout",
     "output_type": "stream",
     "text": [
      "1 record inserted.\n"
     ]
    }
   ],
   "source": [
    "# inserting single record\n",
    "mycursor.execute(\"INSERT INTO `book` (`id`, `Name`, `price`) VALUES ('100', 'Harry Potter and the Sorcerer’s Stone', '2000')\")\n",
    "mydb.commit()\n",
    "print(mycursor.rowcount, \"record inserted.\")"
   ]
  },
  {
   "cell_type": "code",
   "execution_count": 3,
   "metadata": {},
   "outputs": [
    {
     "name": "stdout",
     "output_type": "stream",
     "text": [
      "5 record(s) inserted.\n"
     ]
    }
   ],
   "source": [
    "# inserting multiple record\n",
    "sql = \"INSERT INTO book (id,name,price) VALUES (%s, %s,%s)\"\n",
    "val = [\n",
    "    (\"101\", \"Island of the Blue Dolphins\", \"1500\"),\n",
    "    (\"112\", \"julius caeser’s \", \"2500\"),\n",
    "    (\"104\", \"The final problem\", \"3000\"),\n",
    "    (\"120\", \"Harry Potter and the Prisoner of Azkaban\", \"1200\"),\n",
    "    (\"102\", \"Harry Potter and the Order of the phoenix\", \"2300\")\n",
    "]\n",
    "\n",
    "mycursor.executemany(sql, val)\n",
    "mydb.commit()\n",
    "\n",
    "print(mycursor.rowcount, \"record(s) inserted.\")"
   ]
  },
  {
   "cell_type": "code",
   "execution_count": 4,
   "metadata": {},
   "outputs": [
    {
     "name": "stdout",
     "output_type": "stream",
     "text": [
      "(100, 'Harry Potter and the Sorcerer’s Stone', 2000)\n",
      "(101, 'Island of the Blue Dolphins', 1500)\n",
      "(112, 'julius caeser’s ', 2500)\n",
      "(104, 'The final problem', 3000)\n",
      "(120, 'Harry Potter and the Prisoner of Azkaban', 1200)\n",
      "(102, 'Harry Potter and the Order of the phoenix', 2300)\n"
     ]
    }
   ],
   "source": [
    "# display\n",
    "mycursor.execute(\"SELECT * FROM book\")\n",
    "myresult = mycursor.fetchall()\n",
    "\n",
    "for x in myresult:\n",
    "    print(x)"
   ]
  },
  {
   "cell_type": "code",
   "execution_count": 5,
   "metadata": {},
   "outputs": [
    {
     "name": "stdout",
     "output_type": "stream",
     "text": [
      "(100, 'Harry Potter and the Sorcerer’s Stone', 2000)\n",
      "(101, 'Island of the Blue Dolphins', 1500)\n",
      "(102, 'Harry Potter and the Order of the phoenix', 2300)\n",
      "(104, 'The final problem', 3000)\n",
      "(112, 'julius caeser’s ', 2500)\n",
      "(120, 'Harry Potter and the Prisoner of Azkaban', 1200)\n"
     ]
    }
   ],
   "source": [
    "# order\n",
    "mycursor.execute(\"SELECT * FROM book ORDER BY id ASC\")\n",
    "myresult = mycursor.fetchall()\n",
    "\n",
    "for x in myresult:\n",
    "    print(x)"
   ]
  },
  {
   "cell_type": "code",
   "execution_count": 6,
   "metadata": {},
   "outputs": [
    {
     "name": "stdout",
     "output_type": "stream",
     "text": [
      "(100, 'Harry Potter and the Sorcerer’s Stone', 2000)\n"
     ]
    }
   ],
   "source": [
    "# search\n",
    "mycursor.execute(\"SELECT * FROM book WHERE id ='100'\")\n",
    "myresult = mycursor.fetchall()\n",
    "\n",
    "for x in myresult:\n",
    "    print(x)"
   ]
  },
  {
   "cell_type": "code",
   "execution_count": 7,
   "metadata": {},
   "outputs": [],
   "source": [
    "# delete\n",
    "mycursor.execute(\"DELETE FROM book WHERE price = '3000'\")"
   ]
  },
  {
   "cell_type": "code",
   "execution_count": 8,
   "metadata": {},
   "outputs": [
    {
     "name": "stdout",
     "output_type": "stream",
     "text": [
      "(100, 'Harry Potter and the Sorcerer’s Stone', 2000)\n",
      "(101, 'Island of the Blue Dolphins', 1500)\n",
      "(112, 'julius caeser’s ', 2500)\n",
      "(120, 'Harry Potter and the Prisoner of Azkaban', 1200)\n",
      "(102, 'Harry Potter and the Order of the phoenix', 2300)\n"
     ]
    }
   ],
   "source": [
    "mycursor.execute(\"SELECT * FROM book\")\n",
    "myresult = mycursor.fetchall()\n",
    "\n",
    "for x in myresult:\n",
    "    print(x)"
   ]
  },
  {
   "cell_type": "code",
   "execution_count": 9,
   "metadata": {},
   "outputs": [],
   "source": [
    "mycursor.execute(\"UPDATE book SET price = '3000' WHERE id = '100'\")"
   ]
  },
  {
   "cell_type": "code",
   "execution_count": 10,
   "metadata": {},
   "outputs": [
    {
     "name": "stdout",
     "output_type": "stream",
     "text": [
      "(100, 'Harry Potter and the Sorcerer’s Stone', 3000)\n",
      "(101, 'Island of the Blue Dolphins', 1500)\n",
      "(112, 'julius caeser’s ', 2500)\n",
      "(120, 'Harry Potter and the Prisoner of Azkaban', 1200)\n",
      "(102, 'Harry Potter and the Order of the phoenix', 2300)\n"
     ]
    }
   ],
   "source": [
    "mycursor.execute(\"SELECT * FROM book\")\n",
    "myresult = mycursor.fetchall()\n",
    "\n",
    "for x in myresult:\n",
    "    print(x)"
   ]
  },
  {
   "cell_type": "code",
   "execution_count": 11,
   "metadata": {},
   "outputs": [],
   "source": [
    "mycursor.execute(\"DROP TABLE book\")"
   ]
  },
  {
   "cell_type": "code",
   "execution_count": 12,
   "metadata": {},
   "outputs": [
    {
     "name": "stdout",
     "output_type": "stream",
     "text": [
      "('admission',)\n"
     ]
    }
   ],
   "source": [
    "mycursor.execute(\"SHOW TABLES\")\n",
    "\n",
    "for x in mycursor:\n",
    "    print(x)"
   ]
  },
  {
   "cell_type": "code",
   "execution_count": null,
   "metadata": {},
   "outputs": [],
   "source": []
  }
 ],
 "metadata": {
  "kernelspec": {
   "display_name": "Python 3",
   "language": "python",
   "name": "python3"
  },
  "language_info": {
   "codemirror_mode": {
    "name": "ipython",
    "version": 3
   },
   "file_extension": ".py",
   "mimetype": "text/x-python",
   "name": "python",
   "nbconvert_exporter": "python",
   "pygments_lexer": "ipython3",
   "version": "3.8.3"
  }
 },
 "nbformat": 4,
 "nbformat_minor": 4
}
